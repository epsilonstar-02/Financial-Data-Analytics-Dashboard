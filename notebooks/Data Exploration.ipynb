{
 "cells": [
  {
   "cell_type": "code",
   "execution_count": 1,
   "id": "8a1fff35-9cf8-478f-bd0d-8e593ee5d5f7",
   "metadata": {},
   "outputs": [],
   "source": [
    "import numpy as np\n",
    "import pandas as pd\n",
    "import ast\n",
    "from lightweight_charts import Chart\n",
    "from lightweight_charts.widgets import StreamlitChart\n",
    "import json\n",
    "import streamlit"
   ]
  },
  {
   "cell_type": "code",
   "execution_count": 2,
   "id": "05ef6c47-07ca-4140-916b-06250abf2534",
   "metadata": {},
   "outputs": [],
   "source": [
    "df = pd.read_csv('F:\\ML_projects\\Internship1\\data\\TSLA_data - Sheet1.csv', parse_dates=['timestamp'])"
   ]
  },
  {
   "cell_type": "code",
   "execution_count": 3,
   "id": "6814bf17-717a-4ef6-8a0c-f36b2707b2a8",
   "metadata": {},
   "outputs": [
    {
     "data": {
      "text/html": [
       "<div>\n",
       "<style scoped>\n",
       "    .dataframe tbody tr th:only-of-type {\n",
       "        vertical-align: middle;\n",
       "    }\n",
       "\n",
       "    .dataframe tbody tr th {\n",
       "        vertical-align: top;\n",
       "    }\n",
       "\n",
       "    .dataframe thead th {\n",
       "        text-align: right;\n",
       "    }\n",
       "</style>\n",
       "<table border=\"1\" class=\"dataframe\">\n",
       "  <thead>\n",
       "    <tr style=\"text-align: right;\">\n",
       "      <th></th>\n",
       "      <th>timestamp</th>\n",
       "      <th>direction</th>\n",
       "      <th>Support</th>\n",
       "      <th>Resistance</th>\n",
       "      <th>open</th>\n",
       "      <th>high</th>\n",
       "      <th>low</th>\n",
       "      <th>close</th>\n",
       "      <th>volume</th>\n",
       "    </tr>\n",
       "  </thead>\n",
       "  <tbody>\n",
       "    <tr>\n",
       "      <th>0</th>\n",
       "      <td>2022-08-25</td>\n",
       "      <td>SHORT</td>\n",
       "      <td>[840, 880]</td>\n",
       "      <td>[900, 895, 940]</td>\n",
       "      <td>302.542</td>\n",
       "      <td>302.807</td>\n",
       "      <td>291.556</td>\n",
       "      <td>295.897</td>\n",
       "      <td>6685.7261</td>\n",
       "    </tr>\n",
       "    <tr>\n",
       "      <th>1</th>\n",
       "      <td>2022-08-26</td>\n",
       "      <td>SHORT</td>\n",
       "      <td>[877, 880, 840, 835, 845]</td>\n",
       "      <td>[900, 908, 980.5, 940]</td>\n",
       "      <td>297.297</td>\n",
       "      <td>301.956</td>\n",
       "      <td>287.376</td>\n",
       "      <td>288.017</td>\n",
       "      <td>508.5590</td>\n",
       "    </tr>\n",
       "    <tr>\n",
       "      <th>2</th>\n",
       "      <td>2022-08-27</td>\n",
       "      <td>SHORT</td>\n",
       "      <td>[290]</td>\n",
       "      <td>[300, 322, 323, 324, 422]</td>\n",
       "      <td>297.297</td>\n",
       "      <td>301.956</td>\n",
       "      <td>287.376</td>\n",
       "      <td>288.017</td>\n",
       "      <td>508.5590</td>\n",
       "    </tr>\n",
       "    <tr>\n",
       "      <th>3</th>\n",
       "      <td>2022-08-28</td>\n",
       "      <td>LONG</td>\n",
       "      <td>[285, 286, 84]</td>\n",
       "      <td>[290, 292, 295]</td>\n",
       "      <td>297.297</td>\n",
       "      <td>301.956</td>\n",
       "      <td>287.376</td>\n",
       "      <td>288.017</td>\n",
       "      <td>508.5590</td>\n",
       "    </tr>\n",
       "    <tr>\n",
       "      <th>4</th>\n",
       "      <td>2022-08-31</td>\n",
       "      <td>SHORT</td>\n",
       "      <td>[280, 247, 150, 185]</td>\n",
       "      <td>[287, 288, 292]</td>\n",
       "      <td>280.497</td>\n",
       "      <td>280.837</td>\n",
       "      <td>271.776</td>\n",
       "      <td>275.337</td>\n",
       "      <td>94.2867</td>\n",
       "    </tr>\n",
       "  </tbody>\n",
       "</table>\n",
       "</div>"
      ],
      "text/plain": [
       "   timestamp direction                    Support                 Resistance  \\\n",
       "0 2022-08-25     SHORT                 [840, 880]            [900, 895, 940]   \n",
       "1 2022-08-26     SHORT  [877, 880, 840, 835, 845]     [900, 908, 980.5, 940]   \n",
       "2 2022-08-27     SHORT                      [290]  [300, 322, 323, 324, 422]   \n",
       "3 2022-08-28      LONG             [285, 286, 84]            [290, 292, 295]   \n",
       "4 2022-08-31     SHORT       [280, 247, 150, 185]            [287, 288, 292]   \n",
       "\n",
       "      open     high      low    close     volume  \n",
       "0  302.542  302.807  291.556  295.897  6685.7261  \n",
       "1  297.297  301.956  287.376  288.017   508.5590  \n",
       "2  297.297  301.956  287.376  288.017   508.5590  \n",
       "3  297.297  301.956  287.376  288.017   508.5590  \n",
       "4  280.497  280.837  271.776  275.337    94.2867  "
      ]
     },
     "execution_count": 3,
     "metadata": {},
     "output_type": "execute_result"
    }
   ],
   "source": [
    "df.head(5)"
   ]
  },
  {
   "cell_type": "code",
   "execution_count": 4,
   "id": "d35a9b31-865c-4ddc-ae9d-fa24495cc1e1",
   "metadata": {},
   "outputs": [
    {
     "name": "stdout",
     "output_type": "stream",
     "text": [
      "<class 'pandas.core.frame.DataFrame'>\n",
      "RangeIndex: 665 entries, 0 to 664\n",
      "Data columns (total 9 columns):\n",
      " #   Column      Non-Null Count  Dtype         \n",
      "---  ------      --------------  -----         \n",
      " 0   timestamp   665 non-null    datetime64[ns]\n",
      " 1   direction   335 non-null    object        \n",
      " 2   Support     665 non-null    object        \n",
      " 3   Resistance  665 non-null    object        \n",
      " 4   open        665 non-null    float64       \n",
      " 5   high        665 non-null    float64       \n",
      " 6   low         665 non-null    float64       \n",
      " 7   close       665 non-null    float64       \n",
      " 8   volume      665 non-null    float64       \n",
      "dtypes: datetime64[ns](1), float64(5), object(3)\n",
      "memory usage: 46.9+ KB\n"
     ]
    }
   ],
   "source": [
    "df.info()"
   ]
  },
  {
   "cell_type": "code",
   "execution_count": 5,
   "id": "a3fcdacd-9d0b-4b85-8baa-28fbe363c4a0",
   "metadata": {},
   "outputs": [
    {
     "data": {
      "text/plain": [
       "timestamp       0\n",
       "direction     330\n",
       "Support         0\n",
       "Resistance      0\n",
       "open            0\n",
       "high            0\n",
       "low             0\n",
       "close           0\n",
       "volume          0\n",
       "dtype: int64"
      ]
     },
     "execution_count": 5,
     "metadata": {},
     "output_type": "execute_result"
    }
   ],
   "source": [
    "df.isna().sum()"
   ]
  },
  {
   "cell_type": "code",
   "execution_count": 6,
   "id": "47de1a6e-c0b9-45d8-8e51-a4e8ea8fb52c",
   "metadata": {},
   "outputs": [
    {
     "data": {
      "text/html": [
       "<div>\n",
       "<style scoped>\n",
       "    .dataframe tbody tr th:only-of-type {\n",
       "        vertical-align: middle;\n",
       "    }\n",
       "\n",
       "    .dataframe tbody tr th {\n",
       "        vertical-align: top;\n",
       "    }\n",
       "\n",
       "    .dataframe thead th {\n",
       "        text-align: right;\n",
       "    }\n",
       "</style>\n",
       "<table border=\"1\" class=\"dataframe\">\n",
       "  <thead>\n",
       "    <tr style=\"text-align: right;\">\n",
       "      <th></th>\n",
       "      <th>open</th>\n",
       "      <th>high</th>\n",
       "      <th>low</th>\n",
       "      <th>close</th>\n",
       "      <th>volume</th>\n",
       "    </tr>\n",
       "  </thead>\n",
       "  <tbody>\n",
       "    <tr>\n",
       "      <th>count</th>\n",
       "      <td>665.000000</td>\n",
       "      <td>665.000000</td>\n",
       "      <td>665.000000</td>\n",
       "      <td>665.000000</td>\n",
       "      <td>665.000000</td>\n",
       "    </tr>\n",
       "    <tr>\n",
       "      <th>mean</th>\n",
       "      <td>233.765603</td>\n",
       "      <td>239.119302</td>\n",
       "      <td>228.496779</td>\n",
       "      <td>233.849032</td>\n",
       "      <td>100.987451</td>\n",
       "    </tr>\n",
       "    <tr>\n",
       "      <th>std</th>\n",
       "      <td>65.874333</td>\n",
       "      <td>67.713161</td>\n",
       "      <td>64.107825</td>\n",
       "      <td>65.773434</td>\n",
       "      <td>258.916828</td>\n",
       "    </tr>\n",
       "    <tr>\n",
       "      <th>min</th>\n",
       "      <td>102.916000</td>\n",
       "      <td>111.717000</td>\n",
       "      <td>101.200000</td>\n",
       "      <td>110.336000</td>\n",
       "      <td>32.727600</td>\n",
       "    </tr>\n",
       "    <tr>\n",
       "      <th>25%</th>\n",
       "      <td>184.967000</td>\n",
       "      <td>186.746000</td>\n",
       "      <td>181.257000</td>\n",
       "      <td>184.956000</td>\n",
       "      <td>67.935600</td>\n",
       "    </tr>\n",
       "    <tr>\n",
       "      <th>50%</th>\n",
       "      <td>224.057000</td>\n",
       "      <td>227.746000</td>\n",
       "      <td>218.197000</td>\n",
       "      <td>220.897000</td>\n",
       "      <td>86.149200</td>\n",
       "    </tr>\n",
       "    <tr>\n",
       "      <th>75%</th>\n",
       "      <td>259.126000</td>\n",
       "      <td>263.587000</td>\n",
       "      <td>253.096000</td>\n",
       "      <td>260.326000</td>\n",
       "      <td>107.366400</td>\n",
       "    </tr>\n",
       "    <tr>\n",
       "      <th>max</th>\n",
       "      <td>466.117000</td>\n",
       "      <td>488.306000</td>\n",
       "      <td>450.996000</td>\n",
       "      <td>460.396000</td>\n",
       "      <td>6685.726100</td>\n",
       "    </tr>\n",
       "  </tbody>\n",
       "</table>\n",
       "</div>"
      ],
      "text/plain": [
       "             open        high         low       close       volume\n",
       "count  665.000000  665.000000  665.000000  665.000000   665.000000\n",
       "mean   233.765603  239.119302  228.496779  233.849032   100.987451\n",
       "std     65.874333   67.713161   64.107825   65.773434   258.916828\n",
       "min    102.916000  111.717000  101.200000  110.336000    32.727600\n",
       "25%    184.967000  186.746000  181.257000  184.956000    67.935600\n",
       "50%    224.057000  227.746000  218.197000  220.897000    86.149200\n",
       "75%    259.126000  263.587000  253.096000  260.326000   107.366400\n",
       "max    466.117000  488.306000  450.996000  460.396000  6685.726100"
      ]
     },
     "execution_count": 6,
     "metadata": {},
     "output_type": "execute_result"
    }
   ],
   "source": [
    "df[[\"open\",\"high\",\"low\",\"close\",\"volume\"]].describe()"
   ]
  },
  {
   "cell_type": "code",
   "execution_count": 7,
   "id": "d4749f2e-6822-40be-bbe0-871d8a531084",
   "metadata": {},
   "outputs": [],
   "source": [
    "for col in (\"Support\", \"Resistance\"):\n",
    "    df[f\"{col.lower()}_list\"] = df[col].apply(ast.literal_eval)\n",
    "for prefix in (\"support\", \"resistance\"):\n",
    "    low_col = f\"{prefix}_low\"\n",
    "    high_col = f\"{prefix}_high\"\n",
    "    list_col = f\"{prefix}_list\"\n",
    "    df[low_col]  = df[list_col].apply(lambda lst: min(lst) if lst else np.nan)\n",
    "    df[high_col] = df[list_col].apply(lambda lst: max(lst) if lst else np.nan)"
   ]
  },
  {
   "cell_type": "code",
   "execution_count": 11,
   "id": "4034964d-0dd7-4d70-ad23-a1a210f444f0",
   "metadata": {},
   "outputs": [
    {
     "ename": "AssertionError",
     "evalue": "cannot start a process twice",
     "output_type": "error",
     "traceback": [
      "\u001b[31m---------------------------------------------------------------------------\u001b[39m",
      "\u001b[31mAssertionError\u001b[39m                            Traceback (most recent call last)",
      "\u001b[36mCell\u001b[39m\u001b[36m \u001b[39m\u001b[32mIn[11]\u001b[39m\u001b[32m, line 31\u001b[39m\n\u001b[32m     28\u001b[39m         chart.marker(text=\u001b[33m\"\u001b[39m\u001b[33m▼\u001b[39m\u001b[33m\"\u001b[39m, time=row.timestamp.strftime(\u001b[33m'\u001b[39m\u001b[33m%\u001b[39m\u001b[33mY-\u001b[39m\u001b[33m%\u001b[39m\u001b[33mm-\u001b[39m\u001b[38;5;132;01m%d\u001b[39;00m\u001b[33m'\u001b[39m), position=\u001b[33m\"\u001b[39m\u001b[33maboveBar\u001b[39m\u001b[33m\"\u001b[39m, color=\u001b[33m\"\u001b[39m\u001b[33mred\u001b[39m\u001b[33m\"\u001b[39m)\n\u001b[32m     30\u001b[39m \u001b[38;5;66;03m# Render in Jupyter-friendly way\u001b[39;00m\n\u001b[32m---> \u001b[39m\u001b[32m31\u001b[39m \u001b[43mchart\u001b[49m\u001b[43m.\u001b[49m\u001b[43mshow\u001b[49m\u001b[43m(\u001b[49m\u001b[43mblock\u001b[49m\u001b[43m=\u001b[49m\u001b[38;5;28;43;01mFalse\u001b[39;49;00m\u001b[43m)\u001b[49m  \u001b[38;5;66;03m# Remove block=True for Jupyter compatibility|\u001b[39;00m\n",
      "\u001b[36mFile \u001b[39m\u001b[32mF:\\ML_projects\\Internship1\\venv\\Lib\\site-packages\\lightweight_charts\\chart.py:197\u001b[39m, in \u001b[36mChart.show\u001b[39m\u001b[34m(self, block)\u001b[39m\n\u001b[32m    192\u001b[39m \u001b[38;5;250m\u001b[39m\u001b[33;03m\"\"\"\u001b[39;00m\n\u001b[32m    193\u001b[39m \u001b[33;03mShows the chart window.\\n\u001b[39;00m\n\u001b[32m    194\u001b[39m \u001b[33;03m:param block: blocks execution until the chart is closed.\u001b[39;00m\n\u001b[32m    195\u001b[39m \u001b[33;03m\"\"\"\u001b[39;00m\n\u001b[32m    196\u001b[39m \u001b[38;5;28;01mif\u001b[39;00m \u001b[38;5;129;01mnot\u001b[39;00m \u001b[38;5;28mself\u001b[39m.win.loaded:\n\u001b[32m--> \u001b[39m\u001b[32m197\u001b[39m     \u001b[43mChart\u001b[49m\u001b[43m.\u001b[49m\u001b[43mWV\u001b[49m\u001b[43m.\u001b[49m\u001b[43mstart\u001b[49m\u001b[43m(\u001b[49m\u001b[43m)\u001b[49m\n\u001b[32m    198\u001b[39m     \u001b[38;5;28mself\u001b[39m.win.on_js_load()\n\u001b[32m    199\u001b[39m \u001b[38;5;28;01melse\u001b[39;00m:\n",
      "\u001b[36mFile \u001b[39m\u001b[32mF:\\ML_projects\\Internship1\\venv\\Lib\\site-packages\\lightweight_charts\\chart.py:129\u001b[39m, in \u001b[36mWebviewHandler.start\u001b[39m\u001b[34m(self)\u001b[39m\n\u001b[32m    127\u001b[39m \u001b[38;5;28;01mdef\u001b[39;00m\u001b[38;5;250m \u001b[39m\u001b[34mstart\u001b[39m(\u001b[38;5;28mself\u001b[39m):\n\u001b[32m    128\u001b[39m     \u001b[38;5;28mself\u001b[39m.loaded_event.clear()\n\u001b[32m--> \u001b[39m\u001b[32m129\u001b[39m     \u001b[38;5;28;43mself\u001b[39;49m\u001b[43m.\u001b[49m\u001b[43mwv_process\u001b[49m\u001b[43m.\u001b[49m\u001b[43mstart\u001b[49m\u001b[43m(\u001b[49m\u001b[43m)\u001b[49m\n\u001b[32m    130\u001b[39m     \u001b[38;5;28mself\u001b[39m.function_call_queue.put((\u001b[33m'\u001b[39m\u001b[33mstart\u001b[39m\u001b[33m'\u001b[39m, \u001b[38;5;28mself\u001b[39m.debug))\n\u001b[32m    131\u001b[39m     \u001b[38;5;28mself\u001b[39m.loaded_event.wait()\n",
      "\u001b[36mFile \u001b[39m\u001b[32m~\\AppData\\Local\\Programs\\Python\\Python311\\Lib\\multiprocessing\\process.py:115\u001b[39m, in \u001b[36mBaseProcess.start\u001b[39m\u001b[34m(self)\u001b[39m\n\u001b[32m    111\u001b[39m \u001b[38;5;250m\u001b[39m\u001b[33;03m'''\u001b[39;00m\n\u001b[32m    112\u001b[39m \u001b[33;03mStart child process\u001b[39;00m\n\u001b[32m    113\u001b[39m \u001b[33;03m'''\u001b[39;00m\n\u001b[32m    114\u001b[39m \u001b[38;5;28mself\u001b[39m._check_closed()\n\u001b[32m--> \u001b[39m\u001b[32m115\u001b[39m \u001b[38;5;28;01massert\u001b[39;00m \u001b[38;5;28mself\u001b[39m._popen \u001b[38;5;129;01mis\u001b[39;00m \u001b[38;5;28;01mNone\u001b[39;00m, \u001b[33m'\u001b[39m\u001b[33mcannot start a process twice\u001b[39m\u001b[33m'\u001b[39m\n\u001b[32m    116\u001b[39m \u001b[38;5;28;01massert\u001b[39;00m \u001b[38;5;28mself\u001b[39m._parent_pid == os.getpid(), \\\n\u001b[32m    117\u001b[39m        \u001b[33m'\u001b[39m\u001b[33mcan only start a process object created by current process\u001b[39m\u001b[33m'\u001b[39m\n\u001b[32m    118\u001b[39m \u001b[38;5;28;01massert\u001b[39;00m \u001b[38;5;129;01mnot\u001b[39;00m _current_process._config.get(\u001b[33m'\u001b[39m\u001b[33mdaemon\u001b[39m\u001b[33m'\u001b[39m), \\\n\u001b[32m    119\u001b[39m        \u001b[33m'\u001b[39m\u001b[33mdaemonic processes are not allowed to have children\u001b[39m\u001b[33m'\u001b[39m\n",
      "\u001b[31mAssertionError\u001b[39m: cannot start a process twice"
     ]
    }
   ],
   "source": [
    "# --- Create Chart ---\n",
    "chart = Chart()\n",
    "\n",
    "# Main candlestick series\n",
    "ohlcv = df.rename(columns={\"timestamp\": \"time\"})\n",
    "ohlcv['time'] = ohlcv['time'].dt.strftime('%Y-%m-%d')  # Convert to string\n",
    "chart.set(ohlcv[[\"time\", \"open\", \"high\", \"low\", \"close\", \"volume\"]])\n",
    "\n",
    "# Function to add lines\n",
    "def add_line(series_name: str, col_name: str):\n",
    "    series = chart.create_line(series_name)\n",
    "    data = df[[\"timestamp\", col_name]].copy()\n",
    "    data['timestamp'] = data['timestamp'].dt.strftime('%Y-%m-%d')  # Convert to string\n",
    "    data = data.rename(columns={\"timestamp\": \"time\"})\n",
    "    series.set(data, format_cols=False)\n",
    "\n",
    "# Add support/resistance lines\n",
    "add_line(\"support_low\", \"support_low\")\n",
    "add_line(\"support_high\", \"support_high\")\n",
    "add_line(\"resistance_low\", \"resistance_low\")\n",
    "add_line(\"resistance_high\", \"resistance_high\")\n",
    "\n",
    "# Add markers\n",
    "for _, row in df.iterrows():\n",
    "    if row.direction == \"LONG\":\n",
    "        chart.marker(text=\"▲\", time=row.timestamp.strftime('%Y-%m-%d'), position=\"belowBar\", color=\"green\")\n",
    "    elif row.direction == \"SHORT\":\n",
    "        chart.marker(text=\"▼\", time=row.timestamp.strftime('%Y-%m-%d'), position=\"aboveBar\", color=\"red\")\n",
    "\n",
    "# Render in Jupyter-friendly way\n",
    "chart.show(block=False)  # Remove block=True for Jupyter compatibility|"
   ]
  },
  {
   "cell_type": "code",
   "execution_count": null,
   "id": "aa133483-215d-4a80-a533-e65794cc2706",
   "metadata": {},
   "outputs": [],
   "source": [
    "df.head()"
   ]
  },
  {
   "cell_type": "code",
   "execution_count": null,
   "id": "fbaa7ffb-8049-435b-813e-1453461aef89",
   "metadata": {},
   "outputs": [],
   "source": []
  }
 ],
 "metadata": {
  "kernelspec": {
   "display_name": "Python 3 (ipykernel)",
   "language": "python",
   "name": "python3"
  },
  "language_info": {
   "codemirror_mode": {
    "name": "ipython",
    "version": 3
   },
   "file_extension": ".py",
   "mimetype": "text/x-python",
   "name": "python",
   "nbconvert_exporter": "python",
   "pygments_lexer": "ipython3",
   "version": "3.11.0"
  }
 },
 "nbformat": 4,
 "nbformat_minor": 5
}
